{
 "cells": [
  {
   "cell_type": "markdown",
   "metadata": {
    "ExecuteTime": {
     "end_time": "2018-09-14T06:53:33.885657Z",
     "start_time": "2018-09-14T06:53:33.878374Z"
    }
   },
   "source": [
    "# Boilerplate"
   ]
  },
  {
   "cell_type": "code",
   "execution_count": null,
   "metadata": {},
   "outputs": [],
   "source": [
    "import warnings\n",
    "warnings.filterwarnings('ignore')"
   ]
  },
  {
   "cell_type": "code",
   "execution_count": null,
   "metadata": {},
   "outputs": [],
   "source": [
    "import os\n",
    "\n",
    "from JupyterJoy.simtools.linker_system import GMXLinkerSystem, mindist\n",
    "import JupyterJoy.pbash\n",
    "from JupyterJoy.mdpbuild.mdp import MDP20183\n",
    "from JupyterJoy.bqploteins import TrajPlotTime, EZFigure\n",
    "\n",
    "import numpy as np\n",
    "\n",
    "import mdtraj as md\n",
    "\n",
    "import bqplot as bq\n",
    "\n",
    "import pandas as pd"
   ]
  },
  {
   "cell_type": "code",
   "execution_count": null,
   "metadata": {},
   "outputs": [],
   "source": [
    "%%pbash \n",
    "source /store/opt/gromacs-2018.3-plumed-2.4.2/bin/GMXRC"
   ]
  },
  {
   "cell_type": "code",
   "execution_count": null,
   "metadata": {},
   "outputs": [],
   "source": [
    "nbdir = 'SET ME TO THE FOLDER YOU WANNA RUN SIMS IN'\n",
    "def cd(target_dir=nbdir, mkdir=False):\n",
    "    \"\"\"CDs both python and the persistent Bash kernel\"\"\"\n",
    "    if mkdir:\n",
    "        %pbash mkdir -p $target_dir\n",
    "    os.chdir(target_dir)\n",
    "    %pbash cd $target_dir\n",
    "    \n",
    "class WorkingDirectory():\n",
    "    \"\"\"Context manager that cds in and out on enter/exit\"\"\"\n",
    "    def __init__(self, target_dir):\n",
    "        self.target_dir = target_dir\n",
    "    def __enter__(self):\n",
    "        cd()\n",
    "        cd(self.target_dir, mkdir=True)\n",
    "        return os.getcwd()\n",
    "    def __exit__(self, *args):\n",
    "        cd()\n",
    "    \n",
    "cd()\n",
    "%pbash nbdir=$nbdir\n",
    "%pbash pwd\n",
    "%pbash ls"
   ]
  },
  {
   "cell_type": "markdown",
   "metadata": {},
   "source": [
    "# Configuration"
   ]
  },
  {
   "cell_type": "code",
   "execution_count": null,
   "metadata": {},
   "outputs": [],
   "source": [
    "c22s_prod_mdp = MDP20183(\"\"\"\n",
    "; MDP file for the CHARMM22* force field\n",
    "; Follows the CHARMM27 GROMACS implementation paper: https://dx.doi.org/10.1021/ct900549r\n",
    "\n",
    ";    INTEGRATION - MD\n",
    "integrator               = md\n",
    "dt                       = 0.002 ; 2 fs step\n",
    "nsteps                   = 100000000 ; 200 ns simulation\n",
    "nstcomm                  = 1000 ; remove COM motion every 2 ps\n",
    "\n",
    ";    CONSTRAINTS - MD\n",
    "; Constraints on all bonds permit 2 fs time step\n",
    "; LINCS is faster and more stable\n",
    "; Use SHAKE if you need angle constraints\n",
    "constraints              = all-bonds\n",
    "constraint-algorithm     = LINCS\n",
    "continuation             = no\n",
    "\n",
    ";    OUTPUT CONTROL\n",
    "; Strangely, this is where GROMACS sets all its output control\n",
    "; mdrun switches don't change anything\n",
    "nstxout                  = 0 ; only last ; Steps between writing coords to uncompressed output trajectory\n",
    "nstvout                  = 0 ; only last ; Steps between writing velocities to uncompressed output trajectory\n",
    "nstfout                  = 0 ; never ; Steps between writing forces to uncompressed output trajectory\n",
    "nstlog                   = 5000 ; 100 ps ; Steps between writing energies to log file\n",
    "nstenergy                = 5000 ; 100 ps ; Steps between writing energies to energy file\n",
    "nstxout-compressed       = 5000 ; 100 ps ; Steps between writing coords to compressed output trajectory\n",
    "compressed-x-precision   = 1000 ; Trajectory compression is lossy; this is the precision of that compression\n",
    "\n",
    ";    CUTOFF SCHEME - verlet\n",
    "; Verlet is faster, more parallelisable, more accurate, supports GPUs\n",
    "; Only use group for the legacy interactions it supports\n",
    "cutoff-scheme            = Verlet\n",
    "\n",
    ";    COULOMB INTERACTIONS\n",
    "coulombtype              = PME\n",
    "rcoulomb                 = 1.2\n",
    "\n",
    ";    LJ INTERACTIONS\n",
    "vdwtype                  = Cut-off\n",
    "rvdw                     = 1.2\n",
    "vdw-modifier             = force-switch\n",
    "rvdw-switch              = 1.0\n",
    "dispcorr                 = no\n",
    "\n",
    ";    TEMPERATURE COUPLING\n",
    "tcoupl                   = V-rescale\n",
    "tc-grps                  = Protein  non-Protein\n",
    "tau-t                    = 1.0      1.0\n",
    "ref-t                    = 300.00   300.00\n",
    "\n",
    ";    PRESSURE COUPLING - production\n",
    "; Parrinello-Rahman produces better pressure distribution,\n",
    "; but is less stable and can oscillate if the box has to dramatically change size\n",
    "pcoupl                  = Parrinello-Rahman\n",
    "pcoupltype              = isotropic\n",
    "tau-p                   = 12.0\n",
    "compressibility         = 4.5e-5 4.5e-5\n",
    "ref-p                   = 1.0 1.0\n",
    "\n",
    ";    VELOCITY GENERATION\n",
    "gen-vel                  = no\n",
    "gen-temp                 = 300.00\n",
    "gen-seed                 = -1 ; -1 uses a random seed\n",
    "\"\"\")"
   ]
  },
  {
   "cell_type": "code",
   "execution_count": null,
   "metadata": {},
   "outputs": [],
   "source": [
    "repeat = 'NANP'\n",
    "num_repeats = 3\n",
    "\n",
    "system = GMXLinkerSystem(\n",
    "    sequence=repeat * num_repeats, \n",
    "    ffpath='../../charmm22star_kcx.ff',\n",
    "    name=f'{repeat}{num_repeats}',\n",
    "    min_temp=300.0,\n",
    "    max_temp=600.0,\n",
    "    num_reps=8,\n",
    "    exchange_freq=100\n",
    ")\n",
    "\n",
    "print(\n",
    "    \"Will simulate\", \n",
    "    system.name, \n",
    "    \"over the temperature ladder\", \n",
    "    system.ladder, \n",
    "    \"with the forcefield found at\",\n",
    "    system.ff_path\n",
    ")"
   ]
  },
  {
   "cell_type": "code",
   "execution_count": null,
   "metadata": {},
   "outputs": [],
   "source": [
    "# To load a previously constructed system\n",
    "# system = GMXLinkerSystem.read(f\"{system.name}_sys/{system.name}.pickle\")"
   ]
  },
  {
   "cell_type": "markdown",
   "metadata": {},
   "source": [
    "# Prepare Extended Structure and Topology"
   ]
  },
  {
   "cell_type": "markdown",
   "metadata": {},
   "source": [
    "## Prep Structure"
   ]
  },
  {
   "cell_type": "code",
   "execution_count": null,
   "metadata": {},
   "outputs": [],
   "source": [
    "c22s_prod_mdp.set_temperature(system.min_temp)\n",
    "system.initialise()\n",
    "system.optimise_rdsq_box(1.2)\n",
    "system.solvate()\n",
    "system.salt(conc=0.15)\n",
    "system.em()\n",
    "system.write_all(f\"{system.name}_sys\")"
   ]
  },
  {
   "cell_type": "markdown",
   "metadata": {
    "ExecuteTime": {
     "end_time": "2018-09-14T06:54:43.231421Z",
     "start_time": "2018-09-14T06:54:43.226274Z"
    }
   },
   "source": [
    "# NPT Equilibration\n",
    "\n",
    "This equilibration needs to do two things. First, it needs to ensure we've got the number of water molecules right so that at 300 K the protein isn't interacting with itself. Second, we'll use it to set the box size of our NVT equilibration run."
   ]
  },
  {
   "cell_type": "code",
   "execution_count": null,
   "metadata": {},
   "outputs": [],
   "source": [
    "stepnum = 1\n",
    "deffnm = 'npt_equil'"
   ]
  },
  {
   "cell_type": "code",
   "execution_count": null,
   "metadata": {
    "cell_style": "center"
   },
   "outputs": [],
   "source": [
    "with WorkingDirectory(f'{stepnum}_{deffnm}'):\n",
    "    mdp = c22s_prod_mdp.copy()\n",
    "    mdp.set_time(2, 1)\n",
    "    mdp.pcoupl = 'berendsen'\n",
    "    mdp.tau_p = 0.5\n",
    "    mdp.genvel = 'yes'\n",
    "    \n",
    "    system.run_sim(mdp, deffnm)   \n"
   ]
  },
  {
   "cell_type": "markdown",
   "metadata": {},
   "source": [
    "## Analysis"
   ]
  },
  {
   "cell_type": "code",
   "execution_count": null,
   "metadata": {},
   "outputs": [],
   "source": [
    "traj, edr_df = system.get_properties(deffnm, cwd=f'{stepnum}_{deffnm}')          \n",
    "print('\"' + '\"    \"'.join(edr_df) + '\"')"
   ]
  },
  {
   "cell_type": "code",
   "execution_count": null,
   "metadata": {},
   "outputs": [],
   "source": [
    "mean_volume = np.mean(edr_df['Volume'][1:]) # Drop first frame to let box size equilibrate a bit\n",
    "best_match = (-1, float('inf'))\n",
    "for idx, volume in enumerate(edr_df['Volume']):\n",
    "    if abs(volume - mean_volume) < abs(best_match[1] - mean_volume):\n",
    "        best_match = (idx, volume)\n",
    "print(f'The mean volume was {mean_volume:0.8} nm^3, the closest frame was at index {best_match[0]} with {best_match[1]:0.8} nm^3')"
   ]
  },
  {
   "cell_type": "code",
   "execution_count": null,
   "metadata": {},
   "outputs": [],
   "source": [
    "w = TrajPlotTime(traj, edr_df['Min. PI dist'])\n",
    "w"
   ]
  },
  {
   "cell_type": "markdown",
   "metadata": {},
   "source": [
    "# NVT Equilibration\n",
    "\n",
    "First, we do one long sim at max_T and use it to generate starting structures for a ladder equilibration. Then we do a series of longish MD all along the temperature ladder with exchange to equilibrate each replica. "
   ]
  },
  {
   "cell_type": "code",
   "execution_count": null,
   "metadata": {},
   "outputs": [],
   "source": [
    "stepnum = 2\n",
    "deffnm = 'nvt_equil'"
   ]
  },
  {
   "cell_type": "code",
   "execution_count": null,
   "metadata": {},
   "outputs": [],
   "source": [
    "with WorkingDirectory(f'{stepnum}_{deffnm}'):\n",
    "    min_idx = best_match[0]\n",
    "    traj[min_idx].save('npt_mostavevol.pdb')\n",
    "    system.load_pdb('npt_mostavevol.pdb')"
   ]
  },
  {
   "cell_type": "code",
   "execution_count": null,
   "metadata": {},
   "outputs": [],
   "source": [
    "mdp = c22s_prod_mdp.copy()\n",
    "mdp.set_time(2, 100)\n",
    "mdp.remove_pcouple()\n",
    "mdp.set_temperature(system.max_temp)\n",
    "mdp.genvel = 'yes'\n",
    "\n",
    "with WorkingDirectory(f'{stepnum}_{deffnm}'):\n",
    "    system.run_sim(mdp, deffnm) "
   ]
  },
  {
   "cell_type": "markdown",
   "metadata": {},
   "source": [
    "## Analysis"
   ]
  },
  {
   "cell_type": "code",
   "execution_count": null,
   "metadata": {},
   "outputs": [],
   "source": [
    "traj, edr_df = system.get_properties(deffnm, cwd=f'{stepnum}_{deffnm}')          \n",
    "print('\"' + '\"    \"'.join(edr_df) + '\"')"
   ]
  },
  {
   "cell_type": "code",
   "execution_count": null,
   "metadata": {
    "scrolled": false
   },
   "outputs": [],
   "source": [
    "calpha_atom_indices = traj.top.select_atom_indices('alpha')\n",
    "rmsd = md.rmsd(traj, system.traj, atom_indices=calpha_atom_indices)\n",
    "w = TrajPlotTime(traj, rmsd, stride=100)\n",
    "w"
   ]
  },
  {
   "cell_type": "markdown",
   "metadata": {
    "ExecuteTime": {
     "end_time": "2018-10-18T00:09:14.356678Z",
     "start_time": "2018-10-18T00:09:14.354150Z"
    }
   },
   "source": [
    "# NPT Ladder equilibration"
   ]
  },
  {
   "cell_type": "code",
   "execution_count": null,
   "metadata": {},
   "outputs": [],
   "source": [
    "stepnum = 3\n",
    "deffnm = \"npt_ladder_equil\""
   ]
  },
  {
   "cell_type": "code",
   "execution_count": null,
   "metadata": {},
   "outputs": [],
   "source": [
    "mdp = c22s_prod_mdp.copy()\n",
    "mdp.set_time(2, 1)\n",
    "mdp.pcoupl = 'berendsen'\n",
    "mdp.tau_p = 0.5\n",
    "mdp.genvel = 'yes'\n",
    "\n",
    "starting_frames = system.take_starting_strucs(traj, mdp, skiptime_ps=1000)\n",
    "\n",
    "temp_ladder = system.ladder\n",
    "    \n",
    "system.prep_rest2(deffnm, f'{stepnum}_{deffnm}', mdp, starting_frames)"
   ]
  },
  {
   "cell_type": "code",
   "execution_count": null,
   "metadata": {},
   "outputs": [],
   "source": [
    "with WorkingDirectory(f'{stepnum}_{deffnm}'):\n",
    "    system.call_gmx(\n",
    "        cmd='mdrun_mpi', \n",
    "        stdin='',\n",
    "        mpiranks=system.num_reps,\n",
    "        deffnm=deffnm,\n",
    "        v=True,\n",
    "        multidir=(f'{t:.2f}' for t in temp_ladder),\n",
    "        plumed='plumed.dat',\n",
    "        hrex=True,\n",
    "        replex=-1\n",
    "    )"
   ]
  },
  {
   "cell_type": "code",
   "execution_count": null,
   "metadata": {},
   "outputs": [],
   "source": [
    "for t in temp_ladder:\n",
    "    path = f'{stepnum}_{deffnm}/{t:.2f}'\n",
    "    with WorkingDirectory(path):\n",
    "        system.trajvis(f'{deffnm}.xtc')"
   ]
  },
  {
   "cell_type": "markdown",
   "metadata": {},
   "source": [
    "## Analysis"
   ]
  },
  {
   "cell_type": "code",
   "execution_count": null,
   "metadata": {},
   "outputs": [],
   "source": [
    "traj_dict = {}\n",
    "edr_dict = {}\n",
    "for t in system.ladder:\n",
    "    tstr = f'{t:.2f}'\n",
    "    path = f'{stepnum}_{deffnm}/{tstr}'\n",
    "    traj_dict[tstr], edr_dict[tstr] = system.get_properties(deffnm, cwd=f'{stepnum}_{deffnm}/{tstr}')"
   ]
  },
  {
   "cell_type": "code",
   "execution_count": null,
   "metadata": {},
   "outputs": [],
   "source": [
    "plot_x = 'Time'\n",
    "plot_y = 'Pressure'\n",
    "\n",
    "fig = EZFigure(label_x=plot_x, label_y=plot_y)\n",
    "\n",
    "colourscheme = bq.colorschemes.CATEGORY20\n",
    "for c, (t, df) in zip(colourscheme, edr_dict.items()):\n",
    "    stride = 1\n",
    "    times = df[plot_x][::stride]\n",
    "    enes = df[plot_y][::stride]\n",
    "    fig.lines(title=t, x=times, y=enes, colors=[c])\n",
    "\n",
    "fig.scale_y.reverse=True\n",
    "fig"
   ]
  },
  {
   "cell_type": "markdown",
   "metadata": {
    "ExecuteTime": {
     "end_time": "2018-10-09T03:32:44.338193Z",
     "start_time": "2018-10-09T03:09:37.876Z"
    }
   },
   "source": [
    "# REST2 Production"
   ]
  },
  {
   "cell_type": "code",
   "execution_count": null,
   "metadata": {},
   "outputs": [],
   "source": [
    "# MDTraj doesn't save velocities, so we want to continue with the actual previous file\n",
    "prev_path_fstring = f'{stepnum}_{deffnm}/{{}}/{deffnm}.gro'\n",
    "\n",
    "stepnum = 4\n",
    "deffnm = \"prod\""
   ]
  },
  {
   "cell_type": "code",
   "execution_count": null,
   "metadata": {},
   "outputs": [],
   "source": [
    "mdp = c22s_prod_mdp.copy()\n",
    "mdp.set_time(2, 200)\n",
    "mdp.continuation = 'yes'\n",
    "\n",
    "# MDTraj doesn't save velocities, so we want to continue with the actual previous file\n",
    "temp_ladder = system.ladder\n",
    "starting_frames = [prev_path_fstring.format(f'{t:.2f}') for t in temp_ladder]\n",
    "\n",
    "system.prep_rest2(deffnm, f'{stepnum}_{deffnm}', mdp, starting_frames)"
   ]
  },
  {
   "cell_type": "markdown",
   "metadata": {},
   "source": [
    "## Final checks"
   ]
  },
  {
   "cell_type": "code",
   "execution_count": null,
   "metadata": {},
   "outputs": [],
   "source": [
    "# Run the first nanosecond and then check everything's OK\n",
    "with WorkingDirectory(f'{stepnum}_{deffnm}'):\n",
    "    system.call_gmx(\n",
    "        cmd='mdrun_mpi', \n",
    "        stdin='',\n",
    "        mpiranks=system.num_reps,\n",
    "        deffnm=deffnm,\n",
    "        v=True,\n",
    "        multidir=(f'{t:.2f}' for t in temp_ladder),\n",
    "        plumed='plumed.dat',\n",
    "        hrex=True,\n",
    "        replex=system.exchange_freq,\n",
    "        nsteps=int(1000 / mdp.dt)\n",
    "    )"
   ]
  },
  {
   "cell_type": "code",
   "execution_count": null,
   "metadata": {},
   "outputs": [],
   "source": [
    "edr_dict = {}\n",
    "for t in temp_ladder:\n",
    "    tstr = f'{t:.2f}'\n",
    "    path = f'{stepnum}_{deffnm}/{tstr}'\n",
    "    with WorkingDirectory(path):\n",
    "        edr_dict[tstr] = edr_to_df(f'{deffnm}.edr')"
   ]
  },
  {
   "cell_type": "code",
   "execution_count": null,
   "metadata": {},
   "outputs": [],
   "source": [
    "plot_x = 'Time'\n",
    "plot_y = 'Pressure'\n",
    "\n",
    "fig = EZFigure(label_x=plot_x, label_y=plot_y)\n",
    "\n",
    "colourscheme = bq.colorschemes.CATEGORY20\n",
    "for c, (t, df) in zip(colourscheme, edr_dict.items()):\n",
    "    stride = 1\n",
    "    times = df[plot_x][::stride]\n",
    "    enes = df[plot_y][::stride]\n",
    "    fig.lines(title=t, x=times, y=enes, colors=[c])\n",
    "\n",
    "fig.scale_y.reverse=True\n",
    "fig"
   ]
  },
  {
   "cell_type": "code",
   "execution_count": null,
   "metadata": {},
   "outputs": [],
   "source": [
    "tstr = f'{system.min_temp:.2f}'\n",
    "logfile = f'{stepnum}_{deffnm}/{tstr}/{deffnm}.log'\n",
    "print(\"Here's some key info from the log file\")\n",
    "print(\"Replica exchange interval should be a multiple of nstlist\")\n",
    "print(\"Replica exchange probabilities should be around 0.2-0.3\")\n",
    "print(\"Check the times are reasonable too\")\n",
    "print(\"\\n--------------------------------------------------------\\n\")\n",
    "with open(logfile) as f:\n",
    "    print_rest = False\n",
    "    for line in f:\n",
    "        if any([\n",
    "            line.startswith('Changing nstlist'),\n",
    "            line.startswith('Intra-simulation communication'),\n",
    "            line.startswith('Replica exchange interval')            \n",
    "        ]):\n",
    "            print(line)\n",
    "            \n",
    "        if any([\n",
    "            line == 'Replica exchange statistics\\n',\n",
    "            line == '     R E A L   C Y C L E   A N D   T I M E   A C C O U N T I N G\\n'\n",
    "        ]):\n",
    "            print_rest = True\n",
    "            \n",
    "        if any([\n",
    "            line == 'Repl                                Empirical Transition Matrix\\n'\n",
    "        ]):\n",
    "            print_rest = False\n",
    "            \n",
    "        if print_rest:\n",
    "            print(line[:-1])"
   ]
  },
  {
   "cell_type": "markdown",
   "metadata": {
    "ExecuteTime": {
     "end_time": "2018-10-18T01:49:36.976255Z",
     "start_time": "2018-10-18T01:49:36.969691Z"
    }
   },
   "source": [
    "## Production"
   ]
  },
  {
   "cell_type": "code",
   "execution_count": null,
   "metadata": {},
   "outputs": [],
   "source": [
    "with WorkingDirectory(f'{stepnum}_{deffnm}'):\n",
    "    system.call_gmx(\n",
    "        cmd='mdrun_mpi', \n",
    "        stdin='',\n",
    "        mpiranks=system.num_reps,\n",
    "        deffnm=deffnm,\n",
    "        v=True,\n",
    "        multidir=(f'{t:.2f}' for t in temp_ladder),\n",
    "        plumed='plumed.dat',\n",
    "        hrex=True,\n",
    "        replex=system.exchange_freq,\n",
    "        cpi=True\n",
    "    )"
   ]
  },
  {
   "cell_type": "code",
   "execution_count": null,
   "metadata": {},
   "outputs": [],
   "source": [
    "for t in temp_ladder:\n",
    "    path = f'{stepnum}_{deffnm}/{t:.2f}'\n",
    "    with WorkingDirectory(path):\n",
    "        system.trajvis(f'{deffnm}.xtc')"
   ]
  },
  {
   "cell_type": "markdown",
   "metadata": {},
   "source": [
    "## Analysis"
   ]
  },
  {
   "cell_type": "code",
   "execution_count": null,
   "metadata": {},
   "outputs": [],
   "source": [
    "traj_dict = {}\n",
    "edr_dict = {}\n",
    "for t in system.ladder:\n",
    "    tstr = f'{t:.2f}'\n",
    "    path = f'{stepnum}_{deffnm}/{tstr}'\n",
    "    traj_dict[tstr], edr_dict[tstr] = system.get_properties(deffnm, cwd=f'{stepnum}_{deffnm}/{tstr}')"
   ]
  },
  {
   "cell_type": "code",
   "execution_count": null,
   "metadata": {},
   "outputs": [],
   "source": [
    "plot_x = 'Time'\n",
    "plot_y = 'Potential'\n",
    "\n",
    "fig = EZFigure(label_x=plot_x, label_y=plot_y)\n",
    "\n",
    "colourscheme = bq.colorschemes.CATEGORY20\n",
    "for c, (t, df) in zip(colourscheme, edr_dict.items()):\n",
    "    stride = 1\n",
    "    times = df[plot_x][::stride]\n",
    "    enes = df[plot_y][::stride]\n",
    "    fig.lines(title=t, x=times, y=enes, colors=[c])\n",
    "\n",
    "fig.scale_y.reverse=True\n",
    "fig"
   ]
  },
  {
   "cell_type": "code",
   "execution_count": null,
   "metadata": {},
   "outputs": [],
   "source": [
    "tstr = f'{system.min_temp:.2f}'\n",
    "logfile = f'{stepnum}_{deffnm}/{tstr}/{deffnm}.log'\n",
    "with open(logfile) as f:\n",
    "    print_rest = False\n",
    "    for line in f:\n",
    "        if \"<======  ###############  ==>\" in line:\n",
    "            print_rest = True\n",
    "            \n",
    "        if print_rest:\n",
    "            print(line[:-1])"
   ]
  },
  {
   "cell_type": "code",
   "execution_count": null,
   "metadata": {},
   "outputs": [],
   "source": []
  }
 ],
 "metadata": {
  "kernelspec": {
   "display_name": "Python 3",
   "language": "python",
   "name": "python3"
  },
  "language_info": {
   "codemirror_mode": {
    "name": "ipython",
    "version": 3
   },
   "file_extension": ".py",
   "mimetype": "text/x-python",
   "name": "python",
   "nbconvert_exporter": "python",
   "pygments_lexer": "ipython3",
   "version": "3.6.6"
  },
  "toc": {
   "base_numbering": 1,
   "nav_menu": {},
   "number_sections": true,
   "sideBar": true,
   "skip_h1_title": false,
   "title_cell": "Table of Contents",
   "title_sidebar": "Contents",
   "toc_cell": false,
   "toc_position": {},
   "toc_section_display": true,
   "toc_window_display": false
  }
 },
 "nbformat": 4,
 "nbformat_minor": 2
}
